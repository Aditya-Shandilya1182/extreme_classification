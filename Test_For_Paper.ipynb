{
  "nbformat": 4,
  "nbformat_minor": 0,
  "metadata": {
    "colab": {
      "provenance": [],
      "gpuType": "T4",
      "authorship_tag": "ABX9TyP4+iDudmwPZC1F9/Bl+7/z",
      "include_colab_link": true
    },
    "kernelspec": {
      "name": "python3",
      "display_name": "Python 3"
    },
    "language_info": {
      "name": "python"
    },
    "accelerator": "GPU"
  },
  "cells": [
    {
      "cell_type": "markdown",
      "metadata": {
        "id": "view-in-github",
        "colab_type": "text"
      },
      "source": [
        "<a href=\"https://colab.research.google.com/github/Aditya-Shandilya1182/extreme_classification/blob/main/Test_For_Paper.ipynb\" target=\"_parent\"><img src=\"https://colab.research.google.com/assets/colab-badge.svg\" alt=\"Open In Colab\"/></a>"
      ]
    },
    {
      "cell_type": "code",
      "execution_count": 3,
      "metadata": {
        "id": "vBN9PgBKVcqX"
      },
      "outputs": [],
      "source": [
        "import tensorflow as tf\n",
        "from tensorflow.keras.layers import Input, Embedding, GlobalAveragePooling1D, Dense, Dropout, LayerNormalization\n",
        "from tensorflow.keras.models import Model\n",
        "from tensorflow.keras import initializers\n",
        "import numpy as np\n"
      ]
    },
    {
      "cell_type": "code",
      "source": [
        "import math"
      ],
      "metadata": {
        "id": "YLdMqg9Y91vr"
      },
      "execution_count": 31,
      "outputs": []
    },
    {
      "cell_type": "code",
      "source": [
        "class ParameterizedGeLU(tf.keras.layers.Layer):\n",
        "    def __init__(self, alpha_initializer='GlorotNormal', beta_initializer='GlorotNormal', **kwargs):\n",
        "        super(ParameterizedGeLU, self).__init__(**kwargs)\n",
        "        self.alpha_initializer = initializers.get(alpha_initializer)\n",
        "        self.beta_initializer = initializers.get(beta_initializer)\n",
        "        self.alpha_values = []\n",
        "        self.beta_values = []\n",
        "\n",
        "    def build(self, input_shape):\n",
        "        self.alpha = self.add_weight(shape=(1,), initializer=self.alpha_initializer, name='alpha')\n",
        "        self.beta = self.add_weight(shape=(1,), initializer=self.beta_initializer, name='beta')\n",
        "        super(ParameterizedGeLU, self).build(input_shape)\n",
        "\n",
        "    def call(self, inputs, training = None):\n",
        "        alpha = self.alpha\n",
        "        beta = self.beta\n",
        "        const = math.sqrt(2 / math.pi)\n",
        "        if training:\n",
        "            self.alpha_values.append(alpha)\n",
        "            self.beta_values.append(beta)\n",
        "        return self.beta * 0.5 * inputs * (1 + tf.tanh(const * (self.alpha * inputs + 0.044715 * tf.pow(inputs, 3))))\n",
        "\n",
        "    def get_config(self):\n",
        "        config = super(ParameterizedGeLU, self).get_config()\n",
        "        config.update({\n",
        "            'alpha_initializer': initializers.serialize(self.alpha_initializer),\n",
        "            'beta_initializer': initializers.serialize(self.beta_initializer)\n",
        "        })\n",
        "        return config"
      ],
      "metadata": {
        "id": "M6mzNt3dWGI3"
      },
      "execution_count": 32,
      "outputs": []
    },
    {
      "cell_type": "code",
      "source": [
        "class MultiHeadSelfAttention(tf.keras.layers.Layer):\n",
        "\n",
        "   def __init__(self, num_heads, d_model, dropout_rate=0.1):\n",
        "      super(MultiHeadSelfAttention, self).__init__()\n",
        "      self.num_heads = num_heads\n",
        "      self.d_model = d_model\n",
        "      assert self.d_model % self.num_heads == 0\n",
        "      self.depth = self.d_model // self.num_heads\n",
        "      self.query_dense = Dense(self.d_model)\n",
        "      self.key_dense = Dense(self.d_model)\n",
        "      self.value_dense = Dense(self.d_model)\n",
        "      self.dropout = Dropout(dropout_rate)\n",
        "      self.final_dense = Dense(self.d_model)\n",
        "\n",
        "   def split_heads(self, inputs, batch_size):\n",
        "      inputs = tf.reshape(inputs, (batch_size, -1, self.num_heads, self.depth))\n",
        "      return tf.transpose(inputs, perm=[0, 2, 1, 3])\n",
        "\n",
        "   def call(self, inputs):\n",
        "      batch_size = tf.shape(inputs)[0]\n",
        "      query = self.query_dense(inputs)\n",
        "      key = self.key_dense(inputs)\n",
        "      value = self.value_dense(inputs)\n",
        "      query = self.split_heads(query, batch_size)\n",
        "      key = self.split_heads(key, batch_size)\n",
        "      value = self.split_heads(value, batch_size)\n",
        "      scaled_attention, attention_weights = self.scaled_dot_product_attention(query, key, value)\n",
        "      scaled_attention = tf.transpose(scaled_attention, perm=[0, 2, 1, 3])\n",
        "      concat_attention = tf.reshape(scaled_attention, (batch_size, -1, self.d_model))\n",
        "      outputs = self.final_dense(concat_attention)\n",
        "      return outputs\n",
        "\n",
        "   def scaled_dot_product_attention(self, query, key, value):\n",
        "      matmul_qk = tf.matmul(query, key, transpose_b=True)\n",
        "      dk = tf.cast(tf.shape(key)[-1], tf.float32)\n",
        "      scaled_attention_logits = matmul_qk / tf.math.sqrt(dk)\n",
        "      attention_weights = tf.nn.softmax(scaled_attention_logits, axis=-1)\n",
        "      output = tf.matmul(attention_weights, value)\n",
        "      return output, attention_weights"
      ],
      "metadata": {
        "id": "4Bj_IUTvXvhm"
      },
      "execution_count": 5,
      "outputs": []
    },
    {
      "cell_type": "code",
      "source": [
        "class TextClassificationModel:\n",
        "\n",
        "  def __init__(self, vocab_size, embedding_dim, max_length, num_classes):\n",
        "    self.vocab_size = vocab_size\n",
        "    self.embedding_dim = embedding_dim\n",
        "    self.max_length = max_length\n",
        "    self.num_classes = num_classes\n",
        "\n",
        "  def build_model(self):\n",
        "    inputs = Input(shape=(self.max_length,))\n",
        "    embedding_layer = Embedding(self.vocab_size, self.embedding_dim, input_length=self.max_length)(inputs)\n",
        "    attention_output = MultiHeadSelfAttention(num_heads=8, d_model=self.embedding_dim)(embedding_layer)\n",
        "    attention_output = LayerNormalization(epsilon=1e-6)(attention_output + embedding_layer)\n",
        "    ffnn_output = Dense(128)(attention_output)\n",
        "    gelu_layer = ParameterizedGeLU()(ffnn_output)  # Using Parameterized GeLU activation\n",
        "    ffnn_output = Dense(64)(gelu_layer)\n",
        "    gelu_layer = ParameterizedGeLU()(ffnn_output)  # Using Parameterized GeLU activation\n",
        "    ffnn_output = Dense(32)(gelu_layer)\n",
        "    gelu_layer = ParameterizedGeLU()(ffnn_output)  # Using Parameterized GeLU activation\n",
        "    global_pooling = GlobalAveragePooling1D()(gelu_layer)\n",
        "    outputs = Dense(1, activation='sigmoid')(global_pooling)\n",
        "    model = Model(inputs=inputs, outputs=outputs)\n",
        "    return model\n"
      ],
      "metadata": {
        "id": "DO9eVXrUZe4x"
      },
      "execution_count": 33,
      "outputs": []
    },
    {
      "cell_type": "code",
      "source": [
        "import matplotlib.pyplot as plt\n",
        "\n",
        "def plot_alpha_beta_values(model):\n",
        "    # Access alpha and beta values\n",
        "    alpha_values = model.layers[-5].alpha_values\n",
        "    beta_values = model.layers[-5].beta_values\n",
        "\n",
        "    # Plot alpha and beta values\n",
        "    plt.figure(figsize=(12, 6))\n",
        "    plt.subplot(1, 2, 1)\n",
        "    plt.plot(alpha_values)\n",
        "    plt.title('Alpha Values')\n",
        "    plt.xlabel('Training Iterations')\n",
        "    plt.ylabel('Alpha')\n",
        "\n",
        "    plt.subplot(1, 2, 2)\n",
        "    plt.plot(beta_values)\n",
        "    plt.title('Beta Values')\n",
        "    plt.xlabel('Training Iterations')\n",
        "    plt.ylabel('Beta')\n",
        "\n",
        "    plt.tight_layout()\n",
        "    plt.show()\n"
      ],
      "metadata": {
        "id": "nr-xVagvap-t"
      },
      "execution_count": 7,
      "outputs": []
    },
    {
      "cell_type": "code",
      "source": [
        "# Example usage:\n",
        "vocab_size = 10000\n",
        "embedding_dim = 128\n",
        "max_length = 256\n",
        "num_classes = 2  # binary classification task\n",
        "\n",
        "text_classifier = TextClassificationModel(vocab_size, embedding_dim, max_length, num_classes)\n",
        "model = text_classifier.build_model()\n",
        "model.summary()\n"
      ],
      "metadata": {
        "colab": {
          "base_uri": "https://localhost:8080/"
        },
        "id": "W_m5b2ieawAl",
        "outputId": "88e52846-8de2-4d65-f9b0-ae109a540367"
      },
      "execution_count": 34,
      "outputs": [
        {
          "output_type": "stream",
          "name": "stdout",
          "text": [
            "Model: \"model_3\"\n",
            "__________________________________________________________________________________________________\n",
            " Layer (type)                Output Shape                 Param #   Connected to                  \n",
            "==================================================================================================\n",
            " input_4 (InputLayer)        [(None, 256)]                0         []                            \n",
            "                                                                                                  \n",
            " embedding_3 (Embedding)     (None, 256, 128)             1280000   ['input_4[0][0]']             \n",
            "                                                                                                  \n",
            " multi_head_self_attention_  (None, None, 128)            66048     ['embedding_3[0][0]']         \n",
            " 3 (MultiHeadSelfAttention)                                                                       \n",
            "                                                                                                  \n",
            " tf.__operators__.add_3 (TF  (None, 256, 128)             0         ['multi_head_self_attention_3[\n",
            " OpLambda)                                                          0][0]',                       \n",
            "                                                                     'embedding_3[0][0]']         \n",
            "                                                                                                  \n",
            " layer_normalization_3 (Lay  (None, 256, 128)             256       ['tf.__operators__.add_3[0][0]\n",
            " erNormalization)                                                   ']                            \n",
            "                                                                                                  \n",
            " dense_28 (Dense)            (None, 256, 128)             16512     ['layer_normalization_3[0][0]'\n",
            "                                                                    ]                             \n",
            "                                                                                                  \n",
            " parameterized_ge_lu_6 (Par  (None, 256, 128)             2         ['dense_28[0][0]']            \n",
            " ameterizedGeLU)                                                                                  \n",
            "                                                                                                  \n",
            " dense_29 (Dense)            (None, 256, 64)              8256      ['parameterized_ge_lu_6[0][0]'\n",
            "                                                                    ]                             \n",
            "                                                                                                  \n",
            " parameterized_ge_lu_7 (Par  (None, 256, 64)              2         ['dense_29[0][0]']            \n",
            " ameterizedGeLU)                                                                                  \n",
            "                                                                                                  \n",
            " dense_30 (Dense)            (None, 256, 32)              2080      ['parameterized_ge_lu_7[0][0]'\n",
            "                                                                    ]                             \n",
            "                                                                                                  \n",
            " parameterized_ge_lu_8 (Par  (None, 256, 32)              2         ['dense_30[0][0]']            \n",
            " ameterizedGeLU)                                                                                  \n",
            "                                                                                                  \n",
            " global_average_pooling1d_3  (None, 32)                   0         ['parameterized_ge_lu_8[0][0]'\n",
            "  (GlobalAveragePooling1D)                                          ]                             \n",
            "                                                                                                  \n",
            " dense_31 (Dense)            (None, 1)                    33        ['global_average_pooling1d_3[0\n",
            "                                                                    ][0]']                        \n",
            "                                                                                                  \n",
            "==================================================================================================\n",
            "Total params: 1373191 (5.24 MB)\n",
            "Trainable params: 1373191 (5.24 MB)\n",
            "Non-trainable params: 0 (0.00 Byte)\n",
            "__________________________________________________________________________________________________\n"
          ]
        }
      ]
    },
    {
      "cell_type": "code",
      "source": [
        "model.compile(optimizer='adam',\n",
        "              loss='binary_crossentropy',\n",
        "              metrics=['accuracy'])"
      ],
      "metadata": {
        "id": "7CFZRPuHcuFW"
      },
      "execution_count": 35,
      "outputs": []
    },
    {
      "cell_type": "code",
      "source": [
        "from tensorflow.keras.datasets import imdb\n",
        "from tensorflow.keras.preprocessing.sequence import pad_sequences\n",
        "(x_train, y_train), (x_test, y_test) = imdb.load_data(num_words=vocab_size)\n",
        "x_train = pad_sequences(x_train, maxlen=max_length)\n",
        "x_test = pad_sequences(x_test, maxlen=max_length)\n"
      ],
      "metadata": {
        "id": "Gqx7qN5ua68i",
        "colab": {
          "base_uri": "https://localhost:8080/"
        },
        "outputId": "ad57e33e-3293-41d3-ef7d-06cddbc761eb"
      },
      "execution_count": 10,
      "outputs": [
        {
          "output_type": "stream",
          "name": "stdout",
          "text": [
            "Downloading data from https://storage.googleapis.com/tensorflow/tf-keras-datasets/imdb.npz\n",
            "17464789/17464789 [==============================] - 0s 0us/step\n"
          ]
        }
      ]
    },
    {
      "cell_type": "code",
      "source": [
        "x_train.shape"
      ],
      "metadata": {
        "colab": {
          "base_uri": "https://localhost:8080/"
        },
        "id": "Cp3uL23seJEY",
        "outputId": "94229812-2d28-4238-e59f-fd9ca2eb844c"
      },
      "execution_count": 11,
      "outputs": [
        {
          "output_type": "execute_result",
          "data": {
            "text/plain": [
              "(25000, 256)"
            ]
          },
          "metadata": {},
          "execution_count": 11
        }
      ]
    },
    {
      "cell_type": "code",
      "source": [
        "model.fit(x_train, y_train, epochs=10, batch_size=512, validation_data=(x_test, y_test))\n",
        "\n",
        "# Evaluate the model\n",
        "loss, accuracy = model.evaluate(x_test, y_test)\n",
        "print(f'Test Loss: {loss}, Test Accuracy: {accuracy}')"
      ],
      "metadata": {
        "colab": {
          "base_uri": "https://localhost:8080/"
        },
        "id": "s_1DBbHOce_Z",
        "outputId": "0842e9c1-765e-4655-dcbd-eaa2c04df781"
      },
      "execution_count": 36,
      "outputs": [
        {
          "output_type": "stream",
          "name": "stdout",
          "text": [
            "Epoch 1/10\n",
            "49/49 [==============================] - 19s 297ms/step - loss: 0.5103 - accuracy: 0.7336 - val_loss: 0.3225 - val_accuracy: 0.8624\n",
            "Epoch 2/10\n",
            "49/49 [==============================] - 14s 288ms/step - loss: 0.2306 - accuracy: 0.9090 - val_loss: 0.2916 - val_accuracy: 0.8801\n",
            "Epoch 3/10\n",
            "49/49 [==============================] - 14s 296ms/step - loss: 0.1609 - accuracy: 0.9424 - val_loss: 0.3365 - val_accuracy: 0.8684\n",
            "Epoch 4/10\n",
            "49/49 [==============================] - 15s 314ms/step - loss: 0.1354 - accuracy: 0.9507 - val_loss: 0.3684 - val_accuracy: 0.8652\n",
            "Epoch 5/10\n",
            "49/49 [==============================] - 15s 300ms/step - loss: 0.1104 - accuracy: 0.9620 - val_loss: 0.4201 - val_accuracy: 0.8606\n",
            "Epoch 6/10\n",
            "49/49 [==============================] - 15s 311ms/step - loss: 0.0888 - accuracy: 0.9720 - val_loss: 0.5126 - val_accuracy: 0.8477\n",
            "Epoch 7/10\n",
            "49/49 [==============================] - 16s 320ms/step - loss: 0.0781 - accuracy: 0.9748 - val_loss: 0.5253 - val_accuracy: 0.8490\n",
            "Epoch 8/10\n",
            "49/49 [==============================] - 14s 297ms/step - loss: 0.0635 - accuracy: 0.9796 - val_loss: 0.5745 - val_accuracy: 0.8480\n",
            "Epoch 9/10\n",
            "49/49 [==============================] - 16s 321ms/step - loss: 0.0587 - accuracy: 0.9819 - val_loss: 0.6131 - val_accuracy: 0.8474\n",
            "Epoch 10/10\n",
            "49/49 [==============================] - 15s 311ms/step - loss: 0.0517 - accuracy: 0.9842 - val_loss: 0.6600 - val_accuracy: 0.8442\n",
            "782/782 [==============================] - 7s 9ms/step - loss: 0.6600 - accuracy: 0.8442\n",
            "Test Loss: 0.6600239276885986, Test Accuracy: 0.8441600203514099\n"
          ]
        }
      ]
    },
    {
      "cell_type": "code",
      "source": [
        "alpha_values = []\n",
        "beta_values = []\n",
        "\n",
        "for layer in model.layers:\n",
        "    if isinstance(layer, ParameterizedGeLU):\n",
        "        alpha_values.append(layer.alpha.numpy())\n",
        "        beta_values.append(layer.beta.numpy())\n",
        "\n",
        "# Assuming the alpha and beta values are the same across all ParameterizedGeLU layers for simplicity\n",
        "alpha_values = np.array(alpha_values).flatten()\n",
        "beta_values = np.array(beta_values).flatten()"
      ],
      "metadata": {
        "id": "SF6YpDUEfhDB"
      },
      "execution_count": 37,
      "outputs": []
    },
    {
      "cell_type": "code",
      "source": [
        "import numpy as np\n",
        "import matplotlib.pyplot as plt\n",
        "\n",
        "def gelu(x, alpha, beta):\n",
        "    const = math.sqrt(2 / math.pi)\n",
        "    return beta * 0.5 * x * (1 + np.tanh(const * (alpha * x + 0.044715 * np.power(x, 3))))"
      ],
      "metadata": {
        "id": "qzKvqlZm5E_K"
      },
      "execution_count": 38,
      "outputs": []
    },
    {
      "cell_type": "code",
      "source": [
        "# Generate input values\n",
        "x_values = np.linspace(-3, 3, 400)  # Input range for GELU\n",
        "\n",
        "# Compute GELU values for each alpha and beta\n",
        "for alpha, beta in zip(alpha_values, beta_values):\n",
        "    y_values = gelu(x_values, alpha, beta)\n",
        "\n",
        "    # Plot the GELU function\n",
        "    plt.plot(x_values, y_values, label=f'alpha={alpha}, beta={beta}')\n",
        "\n",
        "plt.title('Parameterized GELU Activation')\n",
        "plt.xlabel('Input')\n",
        "plt.ylabel('Output')\n",
        "plt.legend()\n",
        "plt.grid(True)\n",
        "plt.show()\n"
      ],
      "metadata": {
        "colab": {
          "base_uri": "https://localhost:8080/",
          "height": 472
        },
        "id": "N8MU6Jtu5IjX",
        "outputId": "552310dc-6bbe-49e5-cd16-747796da3c0d"
      },
      "execution_count": 39,
      "outputs": [
        {
          "output_type": "display_data",
          "data": {
            "text/plain": [
              "<Figure size 640x480 with 1 Axes>"
            ],
            "image/png": "[encoded data removed]"
          },
          "metadata": {}
        }
      ]
    },
    {
      "cell_type": "code",
      "source": [
        "Test Loss: 0.7224696278572083, Test Accuracy: 0.8383200168609619 #normal\n",
        "Test Loss: 0.6600239276885986, Test Accuracy: 0.8441600203514099 #trained"
      ],
      "metadata": {
        "id": "vqNVX6Qv5LQj"
      },
      "execution_count": null,
      "outputs": []
    }
  ]
}